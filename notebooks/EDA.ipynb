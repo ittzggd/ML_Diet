{
 "cells": [
  {
   "cell_type": "code",
   "execution_count": null,
   "id": "c95e3cac",
   "metadata": {},
   "outputs": [],
   "source": [
    "import pandas as pd \n",
    "import matplotlib.pylot as plt \n",
    "import seaborn as sns\n",
    "\n",
    "%matplotlib inline\n",
    "sns.set(style=\"whitegrid\")\n",
    "\n",
    "x = pd.read_csv(\"../../data/processed/personal_features_scaled.csv\")\n",
    "y = pd.read_csv(\"../../data/processed/personal_targets.csv\")\n"
   ]
  },
  {
   "cell_type": "code",
   "execution_count": null,
   "id": "af242c07",
   "metadata": {},
   "outputs": [],
   "source": [
    "x.hist(bins=20, figsize=(16, 12), color=\"skyblue\", edgecolor=\"black\")\n",
    "plt.suptitle(\"Distributions of Scaled Input Features\", fontsize=16)\n",
    "plt.tight_layout()\n",
    "plt.show()"
   ]
  },
  {
   "cell_type": "code",
   "execution_count": null,
   "id": "514e6224",
   "metadata": {},
   "outputs": [],
   "source": [
    "y.hist(bins=20, figsize=(12, 10), color=\"lightgreen\", edgecolor=\"black\")\n",
    "plt.suptitle(\"Distribution of Target Variables (Recommended Nutrients)\", fontsize=16)\n",
    "plt.tight_layout()\n",
    "plt.show()"
   ]
  }
 ],
 "metadata": {
  "kernelspec": {
   "display_name": "knn-env",
   "language": "python",
   "name": "python3"
  },
  "language_info": {
   "name": "python",
   "version": "3.10.18"
  }
 },
 "nbformat": 4,
 "nbformat_minor": 5
}
